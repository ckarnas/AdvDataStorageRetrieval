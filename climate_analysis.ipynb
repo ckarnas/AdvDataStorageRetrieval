{
 "cells": [
  {
   "cell_type": "code",
   "execution_count": 1,
   "metadata": {
    "collapsed": true
   },
   "outputs": [],
   "source": [
    "#dependencies\n",
    "import sqlalchemy\n",
    "from sqlalchemy.ext.automap import automap_base\n",
    "from sqlalchemy.orm import Session\n",
    "from sqlalchemy import create_engine\n",
    "from sqlalchemy import func\n",
    "import time\n",
    "from datetime import datetime\n",
    "import matplotlib.pyplot as plt\n",
    "import numpy as np\n",
    "import pandas as pd\n",
    "\n",
    "import matplotlib.dates as mdates\n",
    "import matplotlib.cbook as cbook"
   ]
  },
  {
   "cell_type": "code",
   "execution_count": 2,
   "metadata": {},
   "outputs": [
    {
     "data": {
      "text/plain": [
       "['measurement', 'station']"
      ]
     },
     "execution_count": 2,
     "metadata": {},
     "output_type": "execute_result"
    }
   ],
   "source": [
    "\n",
    "engine = create_engine(\"sqlite:///hawaii3.sqlite\")\n",
    "\n",
    "Base = automap_base()\n",
    "Base.prepare(engine, reflect=True)\n",
    "Base.classes.keys()"
   ]
  },
  {
   "cell_type": "code",
   "execution_count": 3,
   "metadata": {
    "collapsed": true
   },
   "outputs": [],
   "source": [
    "\n",
    "Measurements = Base.classes.measurement\n",
    "Stations = Base.classes.station"
   ]
  },
  {
   "cell_type": "code",
   "execution_count": 4,
   "metadata": {
    "collapsed": true
   },
   "outputs": [],
   "source": [
    "#Create a session\n",
    "\n",
    "session = Session(engine)"
   ]
  },
  {
   "cell_type": "code",
   "execution_count": 5,
   "metadata": {},
   "outputs": [
    {
     "name": "stdout",
     "output_type": "stream",
     "text": [
      "USC00519397 2010-01-01 65.0\n"
     ]
    }
   ],
   "source": [
    "try1 = session.query(Measurements).filter_by(station=\"USC00519397\")\n",
    "print(try1[0].station, try1[0].date, try1[0].tobs)"
   ]
  },
  {
   "cell_type": "code",
   "execution_count": null,
   "metadata": {
    "collapsed": true
   },
   "outputs": [],
   "source": []
  },
  {
   "cell_type": "code",
   "execution_count": 6,
   "metadata": {
    "collapsed": true
   },
   "outputs": [],
   "source": [
    "start_date=\"2018-05-05\"\n",
    "end_date=\"2018-05-13\""
   ]
  },
  {
   "cell_type": "code",
   "execution_count": 7,
   "metadata": {},
   "outputs": [
    {
     "name": "stdout",
     "output_type": "stream",
     "text": [
      "2018 05 05\n"
     ]
    }
   ],
   "source": [
    "\n",
    "convert_start_date=start_date.replace(\"-\",\" \")\n",
    "\n",
    "convert_end_date=end_date.replace(\"-\",\" \")\n",
    "print(convert_start_date)"
   ]
  },
  {
   "cell_type": "code",
   "execution_count": 8,
   "metadata": {
    "collapsed": true
   },
   "outputs": [],
   "source": [
    "official_start = datetime.date(datetime.strptime(convert_start_date, \"%Y %m %d\"))\n",
    "official_end = datetime.date(datetime.strptime(convert_end_date, \"%Y %m %d\"))"
   ]
  },
  {
   "cell_type": "code",
   "execution_count": 9,
   "metadata": {},
   "outputs": [
    {
     "name": "stdout",
     "output_type": "stream",
     "text": [
      "8 days, 0:00:00\n"
     ]
    }
   ],
   "source": [
    "print(official_end-official_start)"
   ]
  },
  {
   "cell_type": "code",
   "execution_count": 10,
   "metadata": {},
   "outputs": [
    {
     "name": "stdout",
     "output_type": "stream",
     "text": [
      "2018-05-05\n"
     ]
    }
   ],
   "source": [
    "print(official_start)"
   ]
  },
  {
   "cell_type": "code",
   "execution_count": 11,
   "metadata": {},
   "outputs": [
    {
     "name": "stdout",
     "output_type": "stream",
     "text": [
      "2017-05-01\n"
     ]
    }
   ],
   "source": [
    "twelve_m_ago=datetime.date(datetime.today())\n",
    "#twelve_m_ago=twelve_m_ago.replace(year=(twelve_m_ago.year-1))\n",
    "twelve_m_ago=twelve_m_ago.replace(year=(twelve_m_ago.year-1))\n",
    "print(twelve_m_ago)"
   ]
  },
  {
   "cell_type": "code",
   "execution_count": 12,
   "metadata": {
    "collapsed": true
   },
   "outputs": [],
   "source": [
    "simple_prcp=pd.DataFrame(session.query(Measurements.date,Measurements.prcp).order_by(Measurements.date).all())\n"
   ]
  },
  {
   "cell_type": "code",
   "execution_count": 13,
   "metadata": {},
   "outputs": [
    {
     "data": {
      "text/plain": [
       "0    2010-01-01\n",
       "1    2010-01-01\n",
       "2    2010-01-01\n",
       "3    2010-01-01\n",
       "4    2010-01-01\n",
       "Name: date, dtype: object"
      ]
     },
     "execution_count": 13,
     "metadata": {},
     "output_type": "execute_result"
    }
   ],
   "source": [
    "simple_prcp[\"date\"].head()"
   ]
  },
  {
   "cell_type": "code",
   "execution_count": 14,
   "metadata": {
    "collapsed": true
   },
   "outputs": [],
   "source": [
    "# for row in range(len(simple_prcp)):\n",
    "#     better_date=simple_prcp.loc[row,\"date\"].replace(\"-\",\" \")\n",
    "#     simple_prcp.loc[row,\"date\"]=datetime.date(datetime.strptime(better_date, \"%Y %m %d\"))\n",
    "#     #print(simple_prcp.loc[row,\"date\"])"
   ]
  },
  {
   "cell_type": "code",
   "execution_count": 15,
   "metadata": {
    "collapsed": true
   },
   "outputs": [],
   "source": [
    "recent = pd.DataFrame(session.query(Measurements.date,Measurements.prcp).filter(Measurements.date>=twelve_m_ago).order_by(Measurements.date).all())\n",
    "recent=recent.set_index(\"date\",drop=True)"
   ]
  },
  {
   "cell_type": "code",
   "execution_count": 16,
   "metadata": {},
   "outputs": [
    {
     "data": {
      "text/html": [
       "<div>\n",
       "<style>\n",
       "    .dataframe thead tr:only-child th {\n",
       "        text-align: right;\n",
       "    }\n",
       "\n",
       "    .dataframe thead th {\n",
       "        text-align: left;\n",
       "    }\n",
       "\n",
       "    .dataframe tbody tr th {\n",
       "        vertical-align: top;\n",
       "    }\n",
       "</style>\n",
       "<table border=\"1\" class=\"dataframe\">\n",
       "  <thead>\n",
       "    <tr style=\"text-align: right;\">\n",
       "      <th></th>\n",
       "      <th>prcp</th>\n",
       "    </tr>\n",
       "    <tr>\n",
       "      <th>date</th>\n",
       "      <th></th>\n",
       "    </tr>\n",
       "  </thead>\n",
       "  <tbody>\n",
       "    <tr>\n",
       "      <th>2017-05-01</th>\n",
       "      <td>0.26</td>\n",
       "    </tr>\n",
       "    <tr>\n",
       "      <th>2017-05-01</th>\n",
       "      <td>0.07</td>\n",
       "    </tr>\n",
       "    <tr>\n",
       "      <th>2017-05-01</th>\n",
       "      <td>0.03</td>\n",
       "    </tr>\n",
       "    <tr>\n",
       "      <th>2017-05-01</th>\n",
       "      <td>0.07</td>\n",
       "    </tr>\n",
       "    <tr>\n",
       "      <th>2017-05-01</th>\n",
       "      <td>0.13</td>\n",
       "    </tr>\n",
       "  </tbody>\n",
       "</table>\n",
       "</div>"
      ],
      "text/plain": [
       "            prcp\n",
       "date            \n",
       "2017-05-01  0.26\n",
       "2017-05-01  0.07\n",
       "2017-05-01  0.03\n",
       "2017-05-01  0.07\n",
       "2017-05-01  0.13"
      ]
     },
     "execution_count": 16,
     "metadata": {},
     "output_type": "execute_result"
    }
   ],
   "source": [
    "recent.head()"
   ]
  },
  {
   "cell_type": "code",
   "execution_count": 17,
   "metadata": {},
   "outputs": [
    {
     "data": {
      "image/png": "[encoded data removed]",
      "text/plain": [
       "<matplotlib.figure.Figure at 0x1dcb75d09b0>"
      ]
     },
     "metadata": {},
     "output_type": "display_data"
    }
   ],
   "source": [
    "# Use Pandas Plotting with Matplotlib to plot the data\n",
    "recent.plot(x_compat=True,figsize=(20,5))\n",
    "\n",
    "# Rotate the xticks for the dates\n",
    "plt.xticks(rotation='45')\n",
    "plt.tight_layout()\n",
    "plt.show()"
   ]
  },
  {
   "cell_type": "code",
   "execution_count": 18,
   "metadata": {},
   "outputs": [
    {
     "name": "stdout",
     "output_type": "stream",
     "text": [
      "Index(['2017-05-01', '2017-05-06', '2017-05-11', '2017-05-17', '2017-05-23',\n",
      "       '2017-05-28', '2017-06-03', '2017-06-08', '2017-06-13', '2017-06-18',\n",
      "       '2017-06-24', '2017-06-29', '2017-07-06', '2017-07-11', '2017-07-16',\n",
      "       '2017-07-21', '2017-07-26', '2017-07-31', '2017-08-08', '2017-08-16'],\n",
      "      dtype='object', name='date')\n"
     ]
    }
   ],
   "source": [
    "x_axis=recent.index\n",
    "print(x_axis[0::30])"
   ]
  },
  {
   "cell_type": "code",
   "execution_count": 19,
   "metadata": {
    "collapsed": true
   },
   "outputs": [],
   "source": [
    "# ##INSERT CHART\n",
    "# #fail\n",
    "# import datetime\n",
    "# import numpy as np\n",
    "# import matplotlib.pyplot as plt\n",
    "# import matplotlib.dates as mdates\n",
    "# import matplotlib.cbook as cbook\n",
    "\n",
    "# years = mdates.YearLocator()   # every year\n",
    "# months = mdates.MonthLocator()  # every month\n",
    "# yearsFmt = mdates.DateFormatter('%Y')\n",
    "\n",
    "# #x_axis=recent.index\n",
    "# #fig, ax = plt.subplots(sharex=True)\n",
    "# ax=recent.plot(kind=\"bar\", figsize=(20,3),xticks=None,title=\"Precipitation\")#.set_xticklabels(recent.index[0::30], rotation=45)#.set_xticklabels(x_axis, rotation=45)#[1::30]\n",
    "\n",
    "# ax.set_xticklabels(recent.index[0::30])\n",
    "# #labels = recent.index[0::30]\n",
    "# #ax.set_xlabel(\"Date\")\n",
    "# #ax.set_ylabel(\"Precipitation\")\n",
    "# #plt.setp(ax.get_xticklabels()[::30], visible=False)\n",
    "# # round to nearest months...\n",
    "# #datemin = np.datetime64(recent.index[0], 'm')\n",
    "# #datemax = np.datetime64(recent.index[-1], 'm') \n",
    "# #ax.set_xlim(datemin, datemax)\n",
    "# #datemin=recent.index[0]\n",
    "# #datemax=recent.index[(-1)]\n",
    "# #ax.set_xlim(datemin,datemax)\n",
    "\n",
    "# # format the ticks\n",
    "# #ax.xaxis.set_minor_locator(months)\n",
    "# #ax.xaxis.set_minor_formatter(mdates.DateFormatter('%Y-%m'))\n",
    "\n",
    "# #plt.MaxNLocator(6)\n",
    "# #ax.set_major_locator(plt.MaxNLocator(3))\n",
    "# #plt.MaxNLocator(3)\n",
    "# #ax.set_ylim=([0, recent.max()+0.25])\n",
    "# #ax.ylim=([0, recent.max()+0.25])\n",
    "# #fig=recent.plot(kind=\"bar\")\n",
    "# #ax.grid(True)"
   ]
  },
  {
   "cell_type": "code",
   "execution_count": 20,
   "metadata": {
    "collapsed": true
   },
   "outputs": [],
   "source": [
    "\n",
    "# plt.show()"
   ]
  },
  {
   "cell_type": "code",
   "execution_count": 21,
   "metadata": {
    "collapsed": true
   },
   "outputs": [],
   "source": [
    "# #Millionth try\n",
    "# #fail\n",
    "# import datetime\n",
    "# import numpy as np\n",
    "# import matplotlib.pyplot as plt\n",
    "# import matplotlib.dates as mdates\n",
    "# import matplotlib.cbook as cbook\n",
    "\n",
    "\n",
    "\n",
    "# # Load a numpy record array from yahoo csv data with fields date, open, close,\n",
    "# # volume, adj_close from the mpl-data/example directory. The record array\n",
    "# # stores the date as an np.datetime64 with a day unit ('D') in the date column.\n",
    "# #with cbook.get_sample_data('goog.npz') as datafile:\n",
    "# #    r = np.load(datafile)['price_data'].view(np.recarray)\n",
    "\n",
    "# fig, ax = plt.subplots()\n",
    "# #ax.plot(recent.index, recent.prcp)\n",
    "# #ax = recent.plot(kind='bar', y='prcp')\n",
    "# ax=recent.plot(kind=\"bar\", rot=45, figsize=(20,3), grid=True, title=\"Precipitation\",xticks=None)#.set_xticklabels(recent.index, rotation=0)\n",
    "# ax.set_xlabel(\"Date\")\n",
    "# ax.set_ylabel(\"Precipitation\")\n",
    "\n",
    "# # format the ticks\n",
    "# #ax.xaxis.set_major_locator(years)\n",
    "# #ax.xaxis.set_major_formatter(yearsFmt)\n",
    "# ax.xaxis.set_minor_locator(months)\n",
    "# ax.xaxis.set_minor_formatter(mdates.DateFormatter('%Y-%m'))\n",
    "\n",
    "# # round to nearest years...\n",
    "# datemin = np.datetime64(recent.index[0], 'm')\n",
    "# #datemax = np.datetime64(recent.index[-1], 'Y') + np.timedelta64(1, 'Y')\n",
    "# datemax = np.datetime64(recent.index[-1], 'm') \n",
    "# ax.set_xlim(datemin, datemax)\n",
    "\n",
    "\n",
    "# # format the coords message box\n",
    "# #def price(x):\n",
    "# #    return '$%1.2f' % x\n",
    "# #ax.format_xdata = mdates.DateFormatter('%Y-%m-%d')\n",
    "# #ax.format_ydata = price\n",
    "# ax.grid(True)\n",
    "\n",
    "# # rotates and right aligns the x labels, and moves the bottom of the\n",
    "# # axes up to make room for them\n",
    "# #fig.autofmt_xdate()\n",
    "\n",
    "# plt.show()"
   ]
  },
  {
   "cell_type": "code",
   "execution_count": 22,
   "metadata": {
    "collapsed": true
   },
   "outputs": [],
   "source": [
    "# #fail\n",
    "# n = 10\n",
    "\n",
    "# ax = recent.plot(kind='bar', y='prcp')\n",
    "# #ticks = ax.xaxis.get_ticklocs()\n",
    "# ticklabels = [l.get_text() for l in ax.xaxis.get_ticklabels()]\n",
    "# #ax.xaxis.set_ticks(ticks[::n])\n",
    "# ax.xaxis.set_ticklabels(ticklabels[::n])\n",
    "\n",
    "# plt.show()\n",
    "# #ax.figure.show()"
   ]
  },
  {
   "cell_type": "code",
   "execution_count": 23,
   "metadata": {
    "collapsed": true
   },
   "outputs": [],
   "source": [
    "###\n",
    "#STATION ANALYSIS\n",
    "###"
   ]
  },
  {
   "cell_type": "code",
   "execution_count": 24,
   "metadata": {},
   "outputs": [
    {
     "name": "stdout",
     "output_type": "stream",
     "text": [
      "9\n"
     ]
    }
   ],
   "source": [
    "#Find total number of stations\n",
    "\n",
    "\n",
    "total_stations = session.query(Stations).count()\n",
    "print(total_stations)"
   ]
  },
  {
   "cell_type": "code",
   "execution_count": 25,
   "metadata": {
    "collapsed": true
   },
   "outputs": [],
   "source": [
    "#Most active stations\n",
    "#Misunderstanding. Thought tobs=total observations.\n",
    "#Will save command for future reference as the sum function is nice\n",
    "#active_stations = session.query(Measurements.station,func.sum(Measurements.tobs)).\\\n",
    "#    group_by(Measurements.station).order_by(func.sum(Measurements.tobs).desc()).all() \n",
    "#active_stations"
   ]
  },
  {
   "cell_type": "code",
   "execution_count": 26,
   "metadata": {},
   "outputs": [
    {
     "data": {
      "text/plain": [
       "[('USC00519281', 2772),\n",
       " ('USC00513117', 2696),\n",
       " ('USC00519397', 2685),\n",
       " ('USC00519523', 2572),\n",
       " ('USC00516128', 2484),\n",
       " ('USC00514830', 1937),\n",
       " ('USC00511918', 1932),\n",
       " ('USC00517948', 683),\n",
       " ('USC00518838', 342)]"
      ]
     },
     "execution_count": 26,
     "metadata": {},
     "output_type": "execute_result"
    }
   ],
   "source": [
    "#Most active stations, descending order\n",
    "active_stations = session.query(Measurements.station,func.count(Measurements.tobs)).\\\n",
    "    group_by(Measurements.station).order_by(func.count(Measurements.tobs).desc()).all() \n",
    "active_stations"
   ]
  },
  {
   "cell_type": "code",
   "execution_count": 27,
   "metadata": {},
   "outputs": [
    {
     "name": "stdout",
     "output_type": "stream",
     "text": [
      "USC00519281\n"
     ]
    }
   ],
   "source": [
    "#The station with the highest obs will now be the first since we did descending order\n",
    "most_obs = active_stations[0].station\n",
    "print(most_obs)"
   ]
  },
  {
   "cell_type": "code",
   "execution_count": 28,
   "metadata": {},
   "outputs": [
    {
     "name": "stdout",
     "output_type": "stream",
     "text": [
      "USC00519397 2010-01-01 65.0\n"
     ]
    }
   ],
   "source": [
    "try1 = session.query(Measurements).filter_by(station=\"USC00519397\")\n",
    "print(try1[0].station, try1[0].date, try1[0].tobs)"
   ]
  },
  {
   "cell_type": "code",
   "execution_count": 29,
   "metadata": {},
   "outputs": [
    {
     "data": {
      "text/html": [
       "<div>\n",
       "<style>\n",
       "    .dataframe thead tr:only-child th {\n",
       "        text-align: right;\n",
       "    }\n",
       "\n",
       "    .dataframe thead th {\n",
       "        text-align: left;\n",
       "    }\n",
       "\n",
       "    .dataframe tbody tr th {\n",
       "        vertical-align: top;\n",
       "    }\n",
       "</style>\n",
       "<table border=\"1\" class=\"dataframe\">\n",
       "  <thead>\n",
       "    <tr style=\"text-align: right;\">\n",
       "      <th></th>\n",
       "      <th>station</th>\n",
       "      <th>tobs</th>\n",
       "    </tr>\n",
       "  </thead>\n",
       "  <tbody>\n",
       "    <tr>\n",
       "      <th>0</th>\n",
       "      <td>USC00519281</td>\n",
       "      <td>70.0</td>\n",
       "    </tr>\n",
       "    <tr>\n",
       "      <th>1</th>\n",
       "      <td>USC00519281</td>\n",
       "      <td>62.0</td>\n",
       "    </tr>\n",
       "    <tr>\n",
       "      <th>2</th>\n",
       "      <td>USC00519281</td>\n",
       "      <td>74.0</td>\n",
       "    </tr>\n",
       "    <tr>\n",
       "      <th>3</th>\n",
       "      <td>USC00519281</td>\n",
       "      <td>75.0</td>\n",
       "    </tr>\n",
       "    <tr>\n",
       "      <th>4</th>\n",
       "      <td>USC00519281</td>\n",
       "      <td>74.0</td>\n",
       "    </tr>\n",
       "  </tbody>\n",
       "</table>\n",
       "</div>"
      ],
      "text/plain": [
       "       station  tobs\n",
       "0  USC00519281  70.0\n",
       "1  USC00519281  62.0\n",
       "2  USC00519281  74.0\n",
       "3  USC00519281  75.0\n",
       "4  USC00519281  74.0"
      ]
     },
     "execution_count": 29,
     "metadata": {},
     "output_type": "execute_result"
    }
   ],
   "source": [
    "prolific_station=pd.DataFrame(session.query(Measurements.station,Measurements.tobs).\\\n",
    "    filter(Measurements.station==most_obs).all() )\n",
    "prolific_station.head()"
   ]
  },
  {
   "cell_type": "code",
   "execution_count": 30,
   "metadata": {
    "collapsed": true
   },
   "outputs": [],
   "source": [
    "recent_mostobs = pd.DataFrame(session.query(Measurements.date,Measurements.tobs).filter(Measurements.date>=twelve_m_ago).\\\n",
    "    filter(Measurements.station==most_obs).order_by(Measurements.date).all())\n"
   ]
  },
  {
   "cell_type": "code",
   "execution_count": 31,
   "metadata": {},
   "outputs": [
    {
     "data": {
      "image/png": "[encoded data removed]",
      "text/plain": [
       "<matplotlib.figure.Figure at 0x1dcb8cf04e0>"
      ]
     },
     "metadata": {},
     "output_type": "display_data"
    }
   ],
   "source": [
    "recent_mostobs.plot(kind=\"hist\",bins=12)\n",
    "\n",
    "plt.show()"
   ]
  },
  {
   "cell_type": "code",
   "execution_count": 32,
   "metadata": {
    "collapsed": true
   },
   "outputs": [],
   "source": [
    "def calc_temps(start, end):\n",
    "    convert_start_date=start.replace(\"-\",\" \")\n",
    "    convert_end_date=end.replace(\"-\",\" \")\n",
    "    official_start = datetime.date(datetime.strptime(convert_start_date, \"%Y %m %d\"))\n",
    "    official_end = datetime.date(datetime.strptime(convert_end_date, \"%Y %m %d\"))\n",
    "    start_year_ago=official_start.replace(year=(official_start.year-1))\n",
    "    end_year_ago=official_end.replace(year=(official_end.year-1))\n",
    "    #print(end,convert_end_date,official_end,end_year_ago)\n",
    "    \n",
    "    stats=dict()\n",
    "    stats[\"min\"]=session.query(func.min(Measurements.tobs)).filter(Measurements.date >= start_year_ago).\\\n",
    "                                filter(Measurements.date <= end_year_ago)\n",
    "    stats[\"max\"]=session.query(func.max(Measurements.tobs)).filter(Measurements.date >= start_year_ago).\\\n",
    "                                filter(Measurements.date <= end_year_ago)\n",
    "    stats[\"avg\"]=session.query(func.avg(Measurements.tobs)).filter(Measurements.date >= start_year_ago).\\\n",
    "                                filter(Measurements.date <= end_year_ago)\n",
    "    return stats"
   ]
  },
  {
   "cell_type": "code",
   "execution_count": 33,
   "metadata": {},
   "outputs": [
    {
     "name": "stdout",
     "output_type": "stream",
     "text": [
      "66.0 80.0 75.20408163265306\n"
     ]
    }
   ],
   "source": [
    "#stats = calc_temps(\"2011-05-01\",\"2011-06-22\")\n",
    "stats=calc_temps(start_date,end_date)\n",
    "my_min=list(stats[\"min\"][0])[0]\n",
    "my_max=list(stats[\"max\"][0])[0]\n",
    "my_avg=list(stats[\"avg\"][0])[0]\n",
    "print(my_min, my_max, my_avg)"
   ]
  },
  {
   "cell_type": "code",
   "execution_count": 34,
   "metadata": {},
   "outputs": [
    {
     "data": {
      "image/png": "[encoded data removed]",
      "text/plain": [
       "<matplotlib.figure.Figure at 0x1dcb8c70dd8>"
      ]
     },
     "metadata": {},
     "output_type": "display_data"
    }
   ],
   "source": [
    "fig, ax = plt.subplots()\n",
    "xpos = 1\n",
    "y_error = my_max-my_min\n",
    "\n",
    "bar = ax.bar(xpos, my_avg, yerr=y_error, alpha=0.5, color='orange', align=\"center\")\n",
    "ax.set( xticks=range(xpos), title=\"Trip Avg Temp\", ylabel=\"Temp (F)\")\n",
    "plt.show()"
   ]
  },
  {
   "cell_type": "code",
   "execution_count": 35,
   "metadata": {
    "collapsed": true
   },
   "outputs": [],
   "source": [
    "#Flask section"
   ]
  },
  {
   "cell_type": "code",
   "execution_count": 39,
   "metadata": {},
   "outputs": [
    {
     "name": "stderr",
     "output_type": "stream",
     "text": [
      " * Restarting with stat\n"
     ]
    },
    {
     "ename": "SystemExit",
     "evalue": "1",
     "output_type": "error",
     "traceback": [
      "An exception has occurred, use %tb to see the full traceback.\n",
      "\u001b[1;31mSystemExit\u001b[0m\u001b[1;31m:\u001b[0m 1\n"
     ]
    },
    {
     "name": "stderr",
     "output_type": "stream",
     "text": [
      "C:\\ProgramData\\Anaconda3\\lib\\site-packages\\IPython\\core\\interactiveshell.py:2870: UserWarning: To exit: use 'exit', 'quit', or Ctrl-D.\n",
      "  warn(\"To exit: use 'exit', 'quit', or Ctrl-D.\", stacklevel=1)\n"
     ]
    }
   ],
   "source": [
    "##Sample Flask processes\n",
    "# 1. import Flask\n",
    "from flask import Flask, jsonify\n",
    "\n",
    "# 2. Create an app, being sure to pass __name__\n",
    "app = Flask(__name__)\n",
    "\n",
    "\n",
    "# 3. Define what to do when a user hits the index route\n",
    "#plain \"/\" is just home\n",
    "# Query for the dates and temperature observations from the last year.\n",
    "# Convert the query results to a Dictionary using date as the key and tobs as the value.\n",
    "# Return the json representation of your dictionary.\n",
    "\n",
    "@app.route(\"/api/date_temps\")\n",
    "def d_t():\n",
    "    #Return a dict of temps with dates as the key\n",
    "    results = session.query(Measurements.date,Mesaurements.tobs).all()\n",
    "\n",
    "    # Create a dictionary from the row data and append to a list of all_passengers\n",
    "    t_d_dict = []\n",
    "    for row in results:\n",
    "        date=row.date\n",
    "        temp=row.temp\n",
    "        individ_dict = {}\n",
    "        individ_dict[date] = temp\n",
    "        t_d_dict.append(individ_dict)\n",
    "    return jsonify(t_d_dict)\n",
    "\n",
    "\n",
    "\n",
    "\n",
    "#Return a json list of stations from the dataset.\n",
    "\n",
    "@app.route(\"/api/stations\")\n",
    "def station_names():\n",
    "    #List the station data\n",
    "    station_list=[]\n",
    "    results=session.query(Stations.station_name).all()\n",
    "    for row in results:\n",
    "        name=row.station_name\n",
    "        station_list.append(name)\n",
    "    return jsonify(station_list)\n",
    "\n",
    "\n",
    "\n",
    "\n",
    "#Return a json list of Temperature Observations (tobs) for the previous year\n",
    "\n",
    "@app.route(\"/api/tobs\")\n",
    "def last_year_tobs():\n",
    "    #list of last year's tobs--not dictionary, just plain list\n",
    "    twelve_m_ago=datetime.date(datetime.today())\n",
    "    twelve_m_ago=twelve_m_ago.replace(year=(twelve_m_ago.year-1))\n",
    "    lastyear_temps=[]\n",
    "    results=session.query(Measurements.tobs).filter(Measurements.date>=twelve_m_ago).order_by(Measurements.date).all()\n",
    "    for row in results:\n",
    "        lastyear_temps.append(row.tobs)\n",
    "    return jsonify(lastyear_temps)\n",
    "    \n",
    "\n",
    "\n",
    "# Return a json list of the minimum temperature, the average temperature, and the max temperature for a given start or start-end range.\n",
    "# When given the start only, calculate TMIN, TAVG, and TMAX for all dates greater than and equal to the start date.\n",
    "# When given the start and the end date, calculate the TMIN, TAVG, and TMAX for dates between the start and end date inclusive.\n",
    "\n",
    "@app.route(\"/api/<start>\")\n",
    "def temp_calc_start():\n",
    "    stats=calc_temps(start,datetime.today())\n",
    "\n",
    "    my_min=list(stats[\"min\"][0])[0]\n",
    "    my_max=list(stats[\"max\"][0])[0]\n",
    "    my_avg=list(stats[\"avg\"][0])[0]\n",
    "    return jsonify(my_min, my_max, my_avg)\n",
    "\n",
    "@app.route(\"/api/<start>/<end>\")\n",
    "def temp_calc_range():\n",
    "    stats=calc_temps(start,end)\n",
    "\n",
    "    my_min=list(stats[\"min\"][0])[0]\n",
    "    my_max=list(stats[\"max\"][0])[0]\n",
    "    my_avg=list(stats[\"avg\"][0])[0]\n",
    "    return jsonify(my_min, my_max, my_avg)\n",
    "\n",
    "\n",
    "if __name__ == '__main__':\n",
    "    app.run(debug=True)"
   ]
  },
  {
   "cell_type": "code",
   "execution_count": null,
   "metadata": {
    "collapsed": true
   },
   "outputs": [],
   "source": []
  }
 ],
 "metadata": {
  "kernelspec": {
   "display_name": "Python 3",
   "language": "python",
   "name": "python3"
  },
  "language_info": {
   "codemirror_mode": {
    "name": "ipython",
    "version": 3
   },
   "file_extension": ".py",
   "mimetype": "text/x-python",
   "name": "python",
   "nbconvert_exporter": "python",
   "pygments_lexer": "ipython3",
   "version": "3.6.3"
  }
 },
 "nbformat": 4,
 "nbformat_minor": 2
}
